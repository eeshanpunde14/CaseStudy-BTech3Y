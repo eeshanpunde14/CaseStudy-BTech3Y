{
 "cells": [
  {
   "cell_type": "code",
   "execution_count": 1,
   "id": "8f40ed34-5c28-492b-a6ff-419b1fe92b04",
   "metadata": {},
   "outputs": [],
   "source": [
    "import tensorflow as tf\n",
    "from tensorflow.keras.layers import Input, Lambda, Dense, Flatten\n",
    "from tensorflow.keras.models import Model\n",
    "from tensorflow.keras.applications.resnet50 import ResNet50, preprocess_input\n",
    "from tensorflow.keras.preprocessing import image\n",
    "from tensorflow.keras.preprocessing.image import ImageDataGenerator, load_img\n",
    "from tensorflow.keras.models import Sequential\n",
    "\n",
    "import numpy as np\n",
    "from glob import glob\n",
    "import matplotlib.pyplot as plt\n",
    "\n",
    "import pandas as pd"
   ]
  },
  {
   "cell_type": "code",
   "execution_count": 2,
   "id": "e96c7b5f-f216-4507-9dec-d44e4b2baba7",
   "metadata": {},
   "outputs": [],
   "source": [
    "df = pd.read_csv(r'C:\\\\Users\\\\eesha\\\\Desktop\\\\ML Projects\\\\CaseStudy\\\\label.csv')"
   ]
  },
  {
   "cell_type": "code",
   "execution_count": 3,
   "id": "0bfc272c-a260-4d5e-986a-146c969ce690",
   "metadata": {},
   "outputs": [
    {
     "data": {
      "text/html": [
       "<div>\n",
       "<style scoped>\n",
       "    .dataframe tbody tr th:only-of-type {\n",
       "        vertical-align: middle;\n",
       "    }\n",
       "\n",
       "    .dataframe tbody tr th {\n",
       "        vertical-align: top;\n",
       "    }\n",
       "\n",
       "    .dataframe thead th {\n",
       "        text-align: right;\n",
       "    }\n",
       "</style>\n",
       "<table border=\"1\" class=\"dataframe\">\n",
       "  <thead>\n",
       "    <tr style=\"text-align: right;\">\n",
       "      <th></th>\n",
       "      <th>file</th>\n",
       "      <th>particle fraction</th>\n",
       "    </tr>\n",
       "  </thead>\n",
       "  <tbody>\n",
       "    <tr>\n",
       "      <th>0</th>\n",
       "      <td>0_95_000_0_1.png</td>\n",
       "      <td>0.662707</td>\n",
       "    </tr>\n",
       "    <tr>\n",
       "      <th>1</th>\n",
       "      <td>0_95_000_0_2.png</td>\n",
       "      <td>0.662707</td>\n",
       "    </tr>\n",
       "    <tr>\n",
       "      <th>2</th>\n",
       "      <td>0_95_000_0_3.png</td>\n",
       "      <td>0.662707</td>\n",
       "    </tr>\n",
       "    <tr>\n",
       "      <th>3</th>\n",
       "      <td>0_95_000_0_4.png</td>\n",
       "      <td>0.662707</td>\n",
       "    </tr>\n",
       "    <tr>\n",
       "      <th>4</th>\n",
       "      <td>0_95_000_0_5.png</td>\n",
       "      <td>0.662707</td>\n",
       "    </tr>\n",
       "    <tr>\n",
       "      <th>...</th>\n",
       "      <td>...</td>\n",
       "      <td>...</td>\n",
       "    </tr>\n",
       "    <tr>\n",
       "      <th>14155</th>\n",
       "      <td>0_95_235_9_2.png</td>\n",
       "      <td>0.675354</td>\n",
       "    </tr>\n",
       "    <tr>\n",
       "      <th>14156</th>\n",
       "      <td>0_95_235_9_3.png</td>\n",
       "      <td>0.675354</td>\n",
       "    </tr>\n",
       "    <tr>\n",
       "      <th>14157</th>\n",
       "      <td>0_95_235_9_4.png</td>\n",
       "      <td>0.675354</td>\n",
       "    </tr>\n",
       "    <tr>\n",
       "      <th>14158</th>\n",
       "      <td>0_95_235_9_5.png</td>\n",
       "      <td>0.675354</td>\n",
       "    </tr>\n",
       "    <tr>\n",
       "      <th>14159</th>\n",
       "      <td>0_95_235_9_6.png</td>\n",
       "      <td>0.675354</td>\n",
       "    </tr>\n",
       "  </tbody>\n",
       "</table>\n",
       "<p>14160 rows × 2 columns</p>\n",
       "</div>"
      ],
      "text/plain": [
       "                   file  particle fraction\n",
       "0      0_95_000_0_1.png           0.662707\n",
       "1      0_95_000_0_2.png           0.662707\n",
       "2      0_95_000_0_3.png           0.662707\n",
       "3      0_95_000_0_4.png           0.662707\n",
       "4      0_95_000_0_5.png           0.662707\n",
       "...                 ...                ...\n",
       "14155  0_95_235_9_2.png           0.675354\n",
       "14156  0_95_235_9_3.png           0.675354\n",
       "14157  0_95_235_9_4.png           0.675354\n",
       "14158  0_95_235_9_5.png           0.675354\n",
       "14159  0_95_235_9_6.png           0.675354\n",
       "\n",
       "[14160 rows x 2 columns]"
      ]
     },
     "execution_count": 3,
     "metadata": {},
     "output_type": "execute_result"
    }
   ],
   "source": [
    "df"
   ]
  },
  {
   "cell_type": "code",
   "execution_count": 4,
   "id": "41fe0dd0-1389-45ae-b212-45fec5deb73b",
   "metadata": {},
   "outputs": [
    {
     "name": "stderr",
     "output_type": "stream",
     "text": [
      "100%|██████████| 14160/14160 [01:57<00:00, 120.89it/s]\n"
     ]
    }
   ],
   "source": [
    "from tqdm import tqdm\n",
    "train_image = []\n",
    "for i in tqdm(range(len(df))):\n",
    "    img = image.load_img('C:\\\\Users\\\\eesha\\Desktop\\\\ML Projects\\\\CaseStudy\\\\images-20230405T005037Z-001\\\\images\\\\'+df['file'][i], target_size=(224,224,3), grayscale=False)\n",
    "    # print(img)\n",
    "    img = image.img_to_array(img)\n",
    "    img = img/255\n",
    "    train_image.append(img)\n",
    "X = np.array(train_image)"
   ]
  },
  {
   "cell_type": "code",
   "execution_count": 5,
   "id": "89f4bd0f-a474-43b3-bfc6-bfcb8a40f1c6",
   "metadata": {},
   "outputs": [],
   "source": [
    "y = df['particle fraction']"
   ]
  },
  {
   "cell_type": "code",
   "execution_count": 6,
   "id": "06dc688a-201c-4034-bbd1-2eb69c650b44",
   "metadata": {},
   "outputs": [
    {
     "data": {
      "text/plain": [
       "0        0.662707\n",
       "1        0.662707\n",
       "2        0.662707\n",
       "3        0.662707\n",
       "4        0.662707\n",
       "           ...   \n",
       "14155    0.675354\n",
       "14156    0.675354\n",
       "14157    0.675354\n",
       "14158    0.675354\n",
       "14159    0.675354\n",
       "Name: particle fraction, Length: 14160, dtype: float64"
      ]
     },
     "execution_count": 6,
     "metadata": {},
     "output_type": "execute_result"
    }
   ],
   "source": [
    "y"
   ]
  },
  {
   "cell_type": "code",
   "execution_count": 7,
   "id": "90e9bd2b-6f33-4a69-9636-6f2ca728b347",
   "metadata": {},
   "outputs": [
    {
     "data": {
      "text/plain": [
       "(14160, 224, 224, 3)"
      ]
     },
     "execution_count": 7,
     "metadata": {},
     "output_type": "execute_result"
    }
   ],
   "source": [
    "X.shape"
   ]
  },
  {
   "cell_type": "code",
   "execution_count": 8,
   "id": "bdc1b171-643d-47bb-a557-14948565a156",
   "metadata": {},
   "outputs": [
    {
     "data": {
      "text/plain": [
       "(14160,)"
      ]
     },
     "execution_count": 8,
     "metadata": {},
     "output_type": "execute_result"
    }
   ],
   "source": [
    "y.shape"
   ]
  },
  {
   "cell_type": "code",
   "execution_count": 9,
   "id": "d3fc4c04-8974-471b-a6a5-82904fa0df19",
   "metadata": {},
   "outputs": [],
   "source": [
    "from sklearn.model_selection import train_test_split\n",
    "\n",
    "X_train, X_test, y_train, y_test = train_test_split(X, y, random_state=42, test_size=0.2)"
   ]
  },
  {
   "cell_type": "code",
   "execution_count": 10,
   "id": "f6686b07-e080-4cf8-a754-f6309e74fb8e",
   "metadata": {},
   "outputs": [],
   "source": [
    "import xgboost as xgb\n",
    "\n",
    "regressor = xgb.XGBRegressor(\n",
    "    n_estimators=100,\n",
    "    reg_lambda=1,\n",
    "    gamma=0,\n",
    "    max_depth=3\n",
    ")"
   ]
  },
  {
   "cell_type": "code",
   "execution_count": 11,
   "id": "d79b2356-11b4-4e63-8928-a51a7221b54e",
   "metadata": {},
   "outputs": [],
   "source": [
    "from keras.applications.vgg19 import VGG19\n",
    "from tensorflow.keras.models import Model\n",
    "\n",
    "model = VGG19(input_shape=(224,224,3))\n",
    "model_new = Model(model.input, model.layers[-2].output)"
   ]
  },
  {
   "cell_type": "code",
   "execution_count": 12,
   "id": "3571ecbe-d3a2-40b9-a9b9-7dd6df74f936",
   "metadata": {},
   "outputs": [
    {
     "name": "stdout",
     "output_type": "stream",
     "text": [
      "443/443 [==============================] - 2549s 6s/step\n"
     ]
    }
   ],
   "source": [
    "features = model_new.predict(X)"
   ]
  },
  {
   "cell_type": "code",
   "execution_count": 13,
   "id": "76073e7b-6b82-46f0-b3bf-b1e9f763771b",
   "metadata": {},
   "outputs": [
    {
     "data": {
      "text/plain": [
       "array([[0.37800938, 0.        , 0.7102843 , ..., 0.        , 0.5748935 ,\n",
       "        0.3481353 ],\n",
       "       [0.37213826, 0.        , 0.7814709 , ..., 0.        , 0.6687356 ,\n",
       "        0.29748592],\n",
       "       [0.3050462 , 0.        , 0.7339515 , ..., 0.        , 0.5512514 ,\n",
       "        0.32638404],\n",
       "       ...,\n",
       "       [0.36206883, 0.01460588, 0.7143873 , ..., 0.        , 0.71996164,\n",
       "        0.1958223 ],\n",
       "       [0.3632372 , 0.0341191 , 0.718853  , ..., 0.        , 0.76759183,\n",
       "        0.16106212],\n",
       "       [0.41957211, 0.03215209, 0.69579667, ..., 0.        , 0.7985958 ,\n",
       "        0.16516149]], dtype=float32)"
      ]
     },
     "execution_count": 13,
     "metadata": {},
     "output_type": "execute_result"
    }
   ],
   "source": [
    "features"
   ]
  },
  {
   "cell_type": "code",
   "execution_count": 14,
   "id": "b2536f72-1da4-4fbe-a883-600613784be1",
   "metadata": {},
   "outputs": [],
   "source": [
    "features = np.array(features)"
   ]
  },
  {
   "cell_type": "code",
   "execution_count": 15,
   "id": "7ee68b4e-fc6f-416c-981a-ed2446f1c3f5",
   "metadata": {},
   "outputs": [],
   "source": [
    "\n",
    "X_train, X_test, y_train, y_test = train_test_split(features, y, random_state=42, test_size=0.2)"
   ]
  },
  {
   "cell_type": "code",
   "execution_count": 16,
   "id": "2f3eed3c-dbbc-41ce-a9ac-e576f61efdb9",
   "metadata": {},
   "outputs": [
    {
     "data": {
      "text/plain": [
       "XGBRegressor(base_score=None, booster=None, callbacks=None,\n",
       "             colsample_bylevel=None, colsample_bynode=None,\n",
       "             colsample_bytree=None, early_stopping_rounds=None,\n",
       "             enable_categorical=False, eval_metric=None, feature_types=None,\n",
       "             gamma=0, gpu_id=None, grow_policy=None, importance_type=None,\n",
       "             interaction_constraints=None, learning_rate=None, max_bin=None,\n",
       "             max_cat_threshold=None, max_cat_to_onehot=None,\n",
       "             max_delta_step=None, max_depth=3, max_leaves=None,\n",
       "             min_child_weight=None, missing=nan, monotone_constraints=None,\n",
       "             n_estimators=100, n_jobs=None, num_parallel_tree=None,\n",
       "             predictor=None, random_state=None, ...)"
      ]
     },
     "execution_count": 16,
     "metadata": {},
     "output_type": "execute_result"
    }
   ],
   "source": [
    "regressor.fit(X_train, y_train)"
   ]
  },
  {
   "cell_type": "code",
   "execution_count": 17,
   "id": "8999a18b-1f8c-4d43-9f5c-2b4b45120477",
   "metadata": {},
   "outputs": [],
   "source": [
    "y_pred = regressor.predict(X_test)"
   ]
  },
  {
   "cell_type": "code",
   "execution_count": 18,
   "id": "81d3a353-2a3f-4a63-bdff-86cbd3b0fc3f",
   "metadata": {},
   "outputs": [
    {
     "data": {
      "text/plain": [
       "0.02741985037659646"
      ]
     },
     "execution_count": 18,
     "metadata": {},
     "output_type": "execute_result"
    }
   ],
   "source": [
    "from sklearn.metrics import mean_squared_error\n",
    "\n",
    "mean_squared_error(y_test, y_pred)"
   ]
  },
  {
   "cell_type": "code",
   "execution_count": 20,
   "id": "15a8f1c5-d3b7-4caa-af1f-dd8d81dca3b5",
   "metadata": {},
   "outputs": [
    {
     "data": {
      "text/plain": [
       "array([0.62677985, 0.63957405, 0.4871267 , ..., 0.7134755 , 0.5904    ,\n",
       "       0.6191869 ], dtype=float32)"
      ]
     },
     "execution_count": 20,
     "metadata": {},
     "output_type": "execute_result"
    }
   ],
   "source": [
    "y_pred"
   ]
  },
  {
   "cell_type": "code",
   "execution_count": 21,
   "id": "54881586-7582-4c69-aa9f-b3ad6274787f",
   "metadata": {},
   "outputs": [],
   "source": [
    "df1 = pd.DataFrame(y_test)"
   ]
  },
  {
   "cell_type": "code",
   "execution_count": 22,
   "id": "86a2552c-c5c1-48a5-b1d3-c9ef813c7ca8",
   "metadata": {},
   "outputs": [
    {
     "data": {
      "text/html": [
       "<div>\n",
       "<style scoped>\n",
       "    .dataframe tbody tr th:only-of-type {\n",
       "        vertical-align: middle;\n",
       "    }\n",
       "\n",
       "    .dataframe tbody tr th {\n",
       "        vertical-align: top;\n",
       "    }\n",
       "\n",
       "    .dataframe thead th {\n",
       "        text-align: right;\n",
       "    }\n",
       "</style>\n",
       "<table border=\"1\" class=\"dataframe\">\n",
       "  <thead>\n",
       "    <tr style=\"text-align: right;\">\n",
       "      <th></th>\n",
       "      <th>particle fraction</th>\n",
       "    </tr>\n",
       "  </thead>\n",
       "  <tbody>\n",
       "    <tr>\n",
       "      <th>6454</th>\n",
       "      <td>0.686044</td>\n",
       "    </tr>\n",
       "    <tr>\n",
       "      <th>5294</th>\n",
       "      <td>0.664575</td>\n",
       "    </tr>\n",
       "    <tr>\n",
       "      <th>3651</th>\n",
       "      <td>0.563383</td>\n",
       "    </tr>\n",
       "    <tr>\n",
       "      <th>12789</th>\n",
       "      <td>0.661227</td>\n",
       "    </tr>\n",
       "    <tr>\n",
       "      <th>9484</th>\n",
       "      <td>0.650074</td>\n",
       "    </tr>\n",
       "    <tr>\n",
       "      <th>...</th>\n",
       "      <td>...</td>\n",
       "    </tr>\n",
       "    <tr>\n",
       "      <th>11392</th>\n",
       "      <td>0.368041</td>\n",
       "    </tr>\n",
       "    <tr>\n",
       "      <th>4536</th>\n",
       "      <td>0.658032</td>\n",
       "    </tr>\n",
       "    <tr>\n",
       "      <th>2910</th>\n",
       "      <td>0.721417</td>\n",
       "    </tr>\n",
       "    <tr>\n",
       "      <th>12430</th>\n",
       "      <td>0.669575</td>\n",
       "    </tr>\n",
       "    <tr>\n",
       "      <th>3522</th>\n",
       "      <td>0.663835</td>\n",
       "    </tr>\n",
       "  </tbody>\n",
       "</table>\n",
       "<p>2832 rows × 1 columns</p>\n",
       "</div>"
      ],
      "text/plain": [
       "       particle fraction\n",
       "6454            0.686044\n",
       "5294            0.664575\n",
       "3651            0.563383\n",
       "12789           0.661227\n",
       "9484            0.650074\n",
       "...                  ...\n",
       "11392           0.368041\n",
       "4536            0.658032\n",
       "2910            0.721417\n",
       "12430           0.669575\n",
       "3522            0.663835\n",
       "\n",
       "[2832 rows x 1 columns]"
      ]
     },
     "execution_count": 22,
     "metadata": {},
     "output_type": "execute_result"
    }
   ],
   "source": [
    "df1"
   ]
  },
  {
   "cell_type": "code",
   "execution_count": 23,
   "id": "9e6c2f37-7abf-4fd3-82b8-aae4fb5b070d",
   "metadata": {},
   "outputs": [
    {
     "data": {
      "text/html": [
       "<div>\n",
       "<style scoped>\n",
       "    .dataframe tbody tr th:only-of-type {\n",
       "        vertical-align: middle;\n",
       "    }\n",
       "\n",
       "    .dataframe tbody tr th {\n",
       "        vertical-align: top;\n",
       "    }\n",
       "\n",
       "    .dataframe thead th {\n",
       "        text-align: right;\n",
       "    }\n",
       "</style>\n",
       "<table border=\"1\" class=\"dataframe\">\n",
       "  <thead>\n",
       "    <tr style=\"text-align: right;\">\n",
       "      <th></th>\n",
       "      <th>particle fraction</th>\n",
       "      <th>particle fraction pred</th>\n",
       "    </tr>\n",
       "  </thead>\n",
       "  <tbody>\n",
       "    <tr>\n",
       "      <th>6454</th>\n",
       "      <td>0.686044</td>\n",
       "      <td>0.626780</td>\n",
       "    </tr>\n",
       "    <tr>\n",
       "      <th>5294</th>\n",
       "      <td>0.664575</td>\n",
       "      <td>0.639574</td>\n",
       "    </tr>\n",
       "    <tr>\n",
       "      <th>3651</th>\n",
       "      <td>0.563383</td>\n",
       "      <td>0.487127</td>\n",
       "    </tr>\n",
       "    <tr>\n",
       "      <th>12789</th>\n",
       "      <td>0.661227</td>\n",
       "      <td>0.669231</td>\n",
       "    </tr>\n",
       "    <tr>\n",
       "      <th>9484</th>\n",
       "      <td>0.650074</td>\n",
       "      <td>0.631255</td>\n",
       "    </tr>\n",
       "    <tr>\n",
       "      <th>...</th>\n",
       "      <td>...</td>\n",
       "      <td>...</td>\n",
       "    </tr>\n",
       "    <tr>\n",
       "      <th>11392</th>\n",
       "      <td>0.368041</td>\n",
       "      <td>0.549637</td>\n",
       "    </tr>\n",
       "    <tr>\n",
       "      <th>4536</th>\n",
       "      <td>0.658032</td>\n",
       "      <td>0.586758</td>\n",
       "    </tr>\n",
       "    <tr>\n",
       "      <th>2910</th>\n",
       "      <td>0.721417</td>\n",
       "      <td>0.713476</td>\n",
       "    </tr>\n",
       "    <tr>\n",
       "      <th>12430</th>\n",
       "      <td>0.669575</td>\n",
       "      <td>0.590400</td>\n",
       "    </tr>\n",
       "    <tr>\n",
       "      <th>3522</th>\n",
       "      <td>0.663835</td>\n",
       "      <td>0.619187</td>\n",
       "    </tr>\n",
       "  </tbody>\n",
       "</table>\n",
       "<p>2832 rows × 2 columns</p>\n",
       "</div>"
      ],
      "text/plain": [
       "       particle fraction  particle fraction pred\n",
       "6454            0.686044                0.626780\n",
       "5294            0.664575                0.639574\n",
       "3651            0.563383                0.487127\n",
       "12789           0.661227                0.669231\n",
       "9484            0.650074                0.631255\n",
       "...                  ...                     ...\n",
       "11392           0.368041                0.549637\n",
       "4536            0.658032                0.586758\n",
       "2910            0.721417                0.713476\n",
       "12430           0.669575                0.590400\n",
       "3522            0.663835                0.619187\n",
       "\n",
       "[2832 rows x 2 columns]"
      ]
     },
     "execution_count": 23,
     "metadata": {},
     "output_type": "execute_result"
    }
   ],
   "source": [
    "df1['particle fraction pred'] = y_pred\n",
    "df1"
   ]
  },
  {
   "cell_type": "code",
   "execution_count": 24,
   "id": "5e4b91d8-193f-4c4c-91f4-6d80e9badddd",
   "metadata": {},
   "outputs": [],
   "source": [
    "y_test1 = df1['particle fraction'][:10]\n",
    "y_pred1 = df1['particle fraction pred'][:10]"
   ]
  },
  {
   "cell_type": "code",
   "execution_count": 25,
   "id": "16f2e562-8178-4dc4-b88e-fa1a6ad4ee10",
   "metadata": {},
   "outputs": [
    {
     "data": {
      "image/png": "[encoded data removed]",
      "text/plain": [
       "<Figure size 640x480 with 1 Axes>"
      ]
     },
     "metadata": {},
     "output_type": "display_data"
    }
   ],
   "source": [
    "plt.plot(y_test1, 'o')\n",
    "plt.plot(y_pred1, 'o', color='black')\n",
    "plt.show()"
   ]
  },
  {
   "cell_type": "code",
   "execution_count": null,
   "id": "d6610aff-8bb3-4571-b794-c291413de1b0",
   "metadata": {},
   "outputs": [],
   "source": []
  }
 ],
 "metadata": {
  "kernelspec": {
   "display_name": "Python 3 (ipykernel)",
   "language": "python",
   "name": "python3"
  },
  "language_info": {
   "codemirror_mode": {
    "name": "ipython",
    "version": 3
   },
   "file_extension": ".py",
   "mimetype": "text/x-python",
   "name": "python",
   "nbconvert_exporter": "python",
   "pygments_lexer": "ipython3",
   "version": "3.9.13"
  }
 },
 "nbformat": 4,
 "nbformat_minor": 5
}
